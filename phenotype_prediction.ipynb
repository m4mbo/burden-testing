{
 "cells": [
  {
   "cell_type": "code",
   "execution_count": 1,
   "metadata": {},
   "outputs": [],
   "source": [
    "import pandas as pd\n",
    "import numpy as np\n",
    "import matplotlib.pyplot as plt\n",
    "import torch\n",
    "from torch import nn, optim, utils"
   ]
  },
  {
   "cell_type": "markdown",
   "metadata": {},
   "source": [
    "Reusing code from previous task."
   ]
  },
  {
   "cell_type": "code",
   "execution_count": 2,
   "metadata": {},
   "outputs": [],
   "source": [
    "# Creating data frames for both csv files\n",
    "genotypes_df = pd.read_csv(\n",
    "    'data/genotypes.csv'\n",
    ")\n",
    "phenotypes_df = pd.read_csv(\n",
    "    'data/phenotype_df.csv',\n",
    "    usecols=[4]\n",
    ")\n",
    "annotations_df = pd.read_csv(\n",
    "    'data/annotations.csv'\n",
    ")\n",
    "\n",
    "# Transposing the frame\n",
    "genotypes_df = genotypes_df.T\n",
    "\n",
    "# Extracting first row to assign new headers\n",
    "headers = genotypes_df.iloc[0]\n",
    "\n",
    "# Removing the first row with old headers\n",
    "genotypes_df = genotypes_df[1:]\n",
    "\n",
    "# Inserting our new headers\n",
    "genotypes_df.columns = headers\n",
    "\n",
    "# Sample id has become the new df index\n",
    "genotypes_df.reset_index(inplace=True)  # We want it to be a column for renaming\n",
    "\n",
    "# Internal index name removed (not necessary)\n",
    "genotypes_df.index.name = None\n",
    "\n",
    "# Renaming for later joint\n",
    "genotypes_df.rename(columns={'index':'variant_id'}, inplace=True)\n",
    "\n",
    "merged_df = pd.merge(annotations_df, genotypes_df, on='variant_id')\n",
    "\n",
    "# Grouping by genes\n",
    "grouped_df = merged_df.groupby('gene_name')\n",
    "\n",
    "# Empty frame\n",
    "gene_burdens = pd.DataFrame()\n",
    "\n",
    "for gene_name, group in grouped_df:\n",
    "    # Weighted sum (I am assuming the 'alpha_missense' values are the weights)\n",
    "    gene_burden = (group.iloc[:, 3:] * group['alpha_missense'].values[:, None]).sum()\n",
    "    \n",
    "    # Append the computed gene burden to its respective gene\n",
    "    gene_burdens[gene_name] = gene_burden"
   ]
  },
  {
   "cell_type": "code",
   "execution_count": 3,
   "metadata": {},
   "outputs": [
    {
     "name": "stdout",
     "output_type": "stream",
     "text": [
      "(1600, 50)\n",
      "(400, 50)\n"
     ]
    }
   ],
   "source": [
    "# Shuffling the matrices values for uniform random sampling\n",
    "g = gene_burdens.values.astype(float)\n",
    "p = phenotypes_df.values\n",
    "\n",
    "# Shuffling indices along columns\n",
    "indices = np.arange(len(g))\n",
    "np.random.shuffle(indices)\n",
    "\n",
    "# Reordering with new indices\n",
    "g = g[indices]\n",
    "p = p[indices]\n",
    "\n",
    "# Calculatign the index required for the split\n",
    "split_index = int(0.8 * len(g))\n",
    "\n",
    "g_tr = g[:split_index]  \n",
    "g_te = g[split_index:]\n",
    "\n",
    "p_tr = p[:split_index]\n",
    "p_te = p[split_index:]\n",
    "\n",
    "print(g_tr.shape)\n",
    "print(g_te.shape)"
   ]
  },
  {
   "cell_type": "code",
   "execution_count": 4,
   "metadata": {},
   "outputs": [],
   "source": [
    "def linear_regression(X, y, alpha):\n",
    "\n",
    "    X = np.concatenate([np.ones((X.shape[0], 1)), X], axis=1)\n",
    "    _, n_features = X.shape\n",
    "\n",
    "    # L2 regularization\n",
    "    \n",
    "    I = np.eye(n_features) # Creating an identity matrix of size n_features to allow for matrix addition\n",
    "    theta = np.linalg.solve(X.T @ X + alpha * I , X.T @ y)\n",
    "\n",
    "    yhat = X @ theta\n",
    "\n",
    "    train_error = np.mean((yhat - y) ** 2)\n",
    "\n",
    "    print(\"Training error:\" , train_error)\n",
    "\n",
    "    return theta, yhat"
   ]
  },
  {
   "cell_type": "code",
   "execution_count": 5,
   "metadata": {},
   "outputs": [
    {
     "name": "stdout",
     "output_type": "stream",
     "text": [
      "Training error: 0.903210609858731\n"
     ]
    }
   ],
   "source": [
    "theta, yhat_train = linear_regression(g_tr, p_tr, 0.1)"
   ]
  },
  {
   "cell_type": "code",
   "execution_count": 7,
   "metadata": {},
   "outputs": [
    {
     "name": "stdout",
     "output_type": "stream",
     "text": [
      "Testing error: 0.9497917222913486\n"
     ]
    }
   ],
   "source": [
    "X_te = g_te\n",
    "\n",
    "X_te = np.concatenate([np.ones((X_te.shape[0], 1)), X_te], axis=1)\n",
    "\n",
    "yhat_test = X_te @ theta\n",
    "\n",
    "test_error = np.mean((yhat_test - p_te) ** 2)\n",
    "\n",
    "print(\"Testing error:\", test_error)"
   ]
  },
  {
   "cell_type": "code",
   "execution_count": 8,
   "metadata": {},
   "outputs": [],
   "source": [
    "train_g_tensor = torch.from_numpy(g_tr)\n",
    "train_p_tensor = torch.from_numpy(p_tr)\n",
    "\n",
    "train_dataset = utils.data.TensorDataset(\n",
    "    train_g_tensor,\n",
    "    train_p_tensor\n",
    ")\n",
    "\n",
    "test_g_tensor = torch.from_numpy(g_te)\n",
    "test_p_tensor = torch.from_numpy(p_te)\n",
    "\n",
    "test_dataset = utils.data.TensorDataset(\n",
    "    test_g_tensor,\n",
    "    test_p_tensor\n",
    ")\n",
    "\n",
    "train_dataloader = utils.data.DataLoader(\n",
    "    train_dataset,\n",
    "    batch_size=40,\n",
    "    shuffle=True\n",
    ")\n",
    "\n",
    "test_dataloader = utils.data.DataLoader(\n",
    "    test_dataset,\n",
    "    batch_size=40,\n",
    "    shuffle=False\n",
    ")"
   ]
  },
  {
   "cell_type": "code",
   "execution_count": 71,
   "metadata": {},
   "outputs": [],
   "source": [
    "class MyNN(nn.Module):\n",
    "  def __init__(self, ni, nh1, nh2, nh3, nh4, no):\n",
    "    super().__init__()\n",
    "    self.layer1 = nn.Linear(ni,nh1)\n",
    "    \n",
    "    self.layer2 = nn.Linear(nh1, nh2)\n",
    "\n",
    "    self.layer3 = nn.Linear(nh2, nh3)\n",
    "\n",
    "    self.layer4 = nn.Linear(nh3, nh4)\n",
    "\n",
    "    self.layer5 = nn.Linear(nh4, no)\n",
    "\n",
    "    self.relu = nn.ReLU()\n",
    "\n",
    "  def forward(self, x):\n",
    "    x = self.layer1(x)\n",
    "    x = self.relu(x)\n",
    "    \n",
    "    x = self.layer2(x)\n",
    "    x = self.relu(x)\n",
    "\n",
    "    x = self.layer3(x)\n",
    "    x = self.relu(x)\n",
    "\n",
    "    x = self.layer4(x)\n",
    "    x = self.relu(x)\n",
    "\n",
    "    x = self.layer5(x)\n",
    "\n",
    "    return x"
   ]
  },
  {
   "cell_type": "code",
   "execution_count": 72,
   "metadata": {},
   "outputs": [],
   "source": [
    "def train(dataloader, n_epoch, net, opt, device):\n",
    "  ls = []\n",
    "  loss_function = nn.MSELoss()  # MSE loss for linear regression\n",
    "  \n",
    "  for i in range(n_epoch):\n",
    "    total_loss = 0\n",
    "    for batch in dataloader:\n",
    "      X, y = batch[0].to(device).float(), batch[1].to(device).float()\n",
    "      yhat = net(X)\n",
    "      loss = loss_function(yhat, y)\n",
    "      opt.zero_grad()\n",
    "      loss.backward()\n",
    "      opt.step()\n",
    "\n",
    "      total_loss += loss.item()\n",
    "      \n",
    "    ls.append(total_loss/len(dataloader))\n",
    "\n",
    "  plt.plot(ls)\n",
    "  plt.title('Training Loss')\n",
    "  plt.xlabel('Epoch')\n",
    "  plt.ylabel('Loss')\n",
    "  plt.show()\n",
    "\n",
    "  return ls[len(ls)-1]"
   ]
  },
  {
   "cell_type": "code",
   "execution_count": 124,
   "metadata": {},
   "outputs": [],
   "source": [
    "device = torch.device(\"cuda:0\")\n",
    "net = MyNN(50, 40, 30, 25, 15, 1).to(device)\n",
    "opt = optim.SGD(net.parameters(), lr = 1e-2 , momentum = 0)"
   ]
  },
  {
   "cell_type": "code",
   "execution_count": 125,
   "metadata": {},
   "outputs": [
    {
     "data": {
      "image/png": "[encoded data removed]",
      "text/plain": [
       "<Figure size 640x480 with 1 Axes>"
      ]
     },
     "metadata": {},
     "output_type": "display_data"
    }
   ],
   "source": [
    "train_loss = train(train_dataloader, 200, net, opt, device)"
   ]
  },
  {
   "cell_type": "code",
   "execution_count": 126,
   "metadata": {},
   "outputs": [
    {
     "name": "stdout",
     "output_type": "stream",
     "text": [
      "Final train loss:  0.8629010379314422\n"
     ]
    }
   ],
   "source": [
    "print(\"Final train loss: \", train_loss)"
   ]
  },
  {
   "cell_type": "code",
   "execution_count": 127,
   "metadata": {},
   "outputs": [],
   "source": [
    "def test(dataloader, net):\n",
    "  net.eval()\n",
    "  loss_function = nn.MSELoss()  # MSE loss for linear regression\n",
    "  with torch.no_grad():\n",
    "    total_loss = 0\n",
    "    for batch in dataloader:\n",
    "      X, y = batch[0].to(device).float(), batch[1].to(device).float()\n",
    "      yhat = net(X)\n",
    "      loss = loss_function(yhat, y)\n",
    "      total_loss += loss.item()\n",
    "\n",
    "    return total_loss/len(dataloader)"
   ]
  },
  {
   "cell_type": "code",
   "execution_count": 128,
   "metadata": {},
   "outputs": [
    {
     "name": "stdout",
     "output_type": "stream",
     "text": [
      "Test loss:  0.9692157924175262\n"
     ]
    }
   ],
   "source": [
    "test_loss = test(test_dataloader, net)\n",
    "print(\"Test loss: \", test_loss)"
   ]
  },
  {
   "cell_type": "markdown",
   "metadata": {},
   "source": [
    "Because the gene burdens account for only a small fraction of the total variability in LDL levels, we can see that there is little to no improvement between using a simple linear model and a fully connected neural network."
   ]
  }
 ],
 "metadata": {
  "kernelspec": {
   "display_name": "Python 3",
   "language": "python",
   "name": "python3"
  },
  "language_info": {
   "codemirror_mode": {
    "name": "ipython",
    "version": 3
   },
   "file_extension": ".py",
   "mimetype": "text/x-python",
   "name": "python",
   "nbconvert_exporter": "python",
   "pygments_lexer": "ipython3",
   "version": "3.10.12"
  }
 },
 "nbformat": 4,
 "nbformat_minor": 2
}
